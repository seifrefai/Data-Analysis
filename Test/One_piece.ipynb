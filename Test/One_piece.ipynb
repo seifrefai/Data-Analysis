{
 "cells": [
  {
   "cell_type": "code",
   "execution_count": 4,
   "source": [
    "import pandas as pd \n",
    "import numpy as np \n",
    "import matplotlib as plt \n",
    "import seaborn as sns\n",
    "%matplotlib inline\n",
    "\n"
   ],
   "outputs": [],
   "metadata": {}
  },
  {
   "cell_type": "code",
   "execution_count": 6,
   "source": [
    "data1= pd.read_csv('Chapters.csv')\n",
    "data2=pd.read_csv('Characters.csv')"
   ],
   "outputs": [],
   "metadata": {}
  },
  {
   "cell_type": "code",
   "execution_count": 8,
   "source": [
    "data1.head()"
   ],
   "outputs": [
    {
     "output_type": "execute_result",
     "data": {
      "text/plain": [
       "   Chapter_Number  Volume                                      Name  \\\n",
       "0               1       1  Romance Dawn - The Dawn of the Adventure   \n",
       "1               2       1               That Guy, \"Straw Hat Luffy\"   \n",
       "2               3       1            Introducing Pirate Hunter Zoro   \n",
       "3               4       1          Marine Captain \"Axe-Hand Morgan\"   \n",
       "4               5       1          Pirate King and Master Swordsman   \n",
       "\n",
       "                 Romanized_title  \\\n",
       "0   Romansu Don - Boken no Yoake   \n",
       "1  Sono Otoko \"Mugiwara no Rufi\"   \n",
       "2    \"Kaizoku-gari no Zoro\" Tojo   \n",
       "3  Kaigun Taisa \"Onote no Mogan\"   \n",
       "4          Kaizoku-O to Daikengo   \n",
       "\n",
       "                                          Viz_title  Pages             Date  \\\n",
       "0                                      Romance Dawn   53.0    July 19, 1997   \n",
       "1                   They Call Him \"Straw Hat Luffy\"   23.0    July 28, 1997   \n",
       "2                         Enter Zolo: Pirate Hunter   21.0   August 4, 1997   \n",
       "3                          The Great Captain Morgan   19.0  August 11, 1997   \n",
       "4  The King of the Pirates and the Master Swordsman   19.0  August 25, 1997   \n",
       "\n",
       "                                            Episodes  \n",
       "0  We Are! (p. 1, 49-51), Episode 4 (p. 6-47), Ep...  \n",
       "1  Episode 1 (p. 4-23), Episode of Luffy (p. 4, 8...  \n",
       "2                             Episode 2 (p. 1, 3-21)  \n",
       "3                                Episode 2 (p. 1-19)  \n",
       "4  Episode 2 (p. 2-8, 16-19), Episode 19 (p. 9-15...  "
      ],
      "text/html": [
       "<div>\n",
       "<style scoped>\n",
       "    .dataframe tbody tr th:only-of-type {\n",
       "        vertical-align: middle;\n",
       "    }\n",
       "\n",
       "    .dataframe tbody tr th {\n",
       "        vertical-align: top;\n",
       "    }\n",
       "\n",
       "    .dataframe thead th {\n",
       "        text-align: right;\n",
       "    }\n",
       "</style>\n",
       "<table border=\"1\" class=\"dataframe\">\n",
       "  <thead>\n",
       "    <tr style=\"text-align: right;\">\n",
       "      <th></th>\n",
       "      <th>Chapter_Number</th>\n",
       "      <th>Volume</th>\n",
       "      <th>Name</th>\n",
       "      <th>Romanized_title</th>\n",
       "      <th>Viz_title</th>\n",
       "      <th>Pages</th>\n",
       "      <th>Date</th>\n",
       "      <th>Episodes</th>\n",
       "    </tr>\n",
       "  </thead>\n",
       "  <tbody>\n",
       "    <tr>\n",
       "      <th>0</th>\n",
       "      <td>1</td>\n",
       "      <td>1</td>\n",
       "      <td>Romance Dawn - The Dawn of the Adventure</td>\n",
       "      <td>Romansu Don - Boken no Yoake</td>\n",
       "      <td>Romance Dawn</td>\n",
       "      <td>53.0</td>\n",
       "      <td>July 19, 1997</td>\n",
       "      <td>We Are! (p. 1, 49-51), Episode 4 (p. 6-47), Ep...</td>\n",
       "    </tr>\n",
       "    <tr>\n",
       "      <th>1</th>\n",
       "      <td>2</td>\n",
       "      <td>1</td>\n",
       "      <td>That Guy, \"Straw Hat Luffy\"</td>\n",
       "      <td>Sono Otoko \"Mugiwara no Rufi\"</td>\n",
       "      <td>They Call Him \"Straw Hat Luffy\"</td>\n",
       "      <td>23.0</td>\n",
       "      <td>July 28, 1997</td>\n",
       "      <td>Episode 1 (p. 4-23), Episode of Luffy (p. 4, 8...</td>\n",
       "    </tr>\n",
       "    <tr>\n",
       "      <th>2</th>\n",
       "      <td>3</td>\n",
       "      <td>1</td>\n",
       "      <td>Introducing Pirate Hunter Zoro</td>\n",
       "      <td>\"Kaizoku-gari no Zoro\" Tojo</td>\n",
       "      <td>Enter Zolo: Pirate Hunter</td>\n",
       "      <td>21.0</td>\n",
       "      <td>August 4, 1997</td>\n",
       "      <td>Episode 2 (p. 1, 3-21)</td>\n",
       "    </tr>\n",
       "    <tr>\n",
       "      <th>3</th>\n",
       "      <td>4</td>\n",
       "      <td>1</td>\n",
       "      <td>Marine Captain \"Axe-Hand Morgan\"</td>\n",
       "      <td>Kaigun Taisa \"Onote no Mogan\"</td>\n",
       "      <td>The Great Captain Morgan</td>\n",
       "      <td>19.0</td>\n",
       "      <td>August 11, 1997</td>\n",
       "      <td>Episode 2 (p. 1-19)</td>\n",
       "    </tr>\n",
       "    <tr>\n",
       "      <th>4</th>\n",
       "      <td>5</td>\n",
       "      <td>1</td>\n",
       "      <td>Pirate King and Master Swordsman</td>\n",
       "      <td>Kaizoku-O to Daikengo</td>\n",
       "      <td>The King of the Pirates and the Master Swordsman</td>\n",
       "      <td>19.0</td>\n",
       "      <td>August 25, 1997</td>\n",
       "      <td>Episode 2 (p. 2-8, 16-19), Episode 19 (p. 9-15...</td>\n",
       "    </tr>\n",
       "  </tbody>\n",
       "</table>\n",
       "</div>"
      ]
     },
     "metadata": {},
     "execution_count": 8
    }
   ],
   "metadata": {}
  },
  {
   "cell_type": "code",
   "execution_count": 9,
   "source": [
    "data2.head()"
   ],
   "outputs": [
    {
     "output_type": "execute_result",
     "data": {
      "text/plain": [
       "       name  chapter  episode  year  \\\n",
       "0       A O    551.0    460.0  2009   \n",
       "1  Abdullah    704.0    632.0  2013   \n",
       "2   Absalom    444.0    339.0  2007   \n",
       "3    Acilia    706.0    652.0  2013   \n",
       "4     Adele    608.0    527.0  2010   \n",
       "\n",
       "                                                note  \n",
       "0  His name was revealed by the Marines in Episod...  \n",
       "1                                                NaN  \n",
       "2                                                NaN  \n",
       "3                                                NaN  \n",
       "4  Her name was revealed in the Blue Deep data book.  "
      ],
      "text/html": [
       "<div>\n",
       "<style scoped>\n",
       "    .dataframe tbody tr th:only-of-type {\n",
       "        vertical-align: middle;\n",
       "    }\n",
       "\n",
       "    .dataframe tbody tr th {\n",
       "        vertical-align: top;\n",
       "    }\n",
       "\n",
       "    .dataframe thead th {\n",
       "        text-align: right;\n",
       "    }\n",
       "</style>\n",
       "<table border=\"1\" class=\"dataframe\">\n",
       "  <thead>\n",
       "    <tr style=\"text-align: right;\">\n",
       "      <th></th>\n",
       "      <th>name</th>\n",
       "      <th>chapter</th>\n",
       "      <th>episode</th>\n",
       "      <th>year</th>\n",
       "      <th>note</th>\n",
       "    </tr>\n",
       "  </thead>\n",
       "  <tbody>\n",
       "    <tr>\n",
       "      <th>0</th>\n",
       "      <td>A O</td>\n",
       "      <td>551.0</td>\n",
       "      <td>460.0</td>\n",
       "      <td>2009</td>\n",
       "      <td>His name was revealed by the Marines in Episod...</td>\n",
       "    </tr>\n",
       "    <tr>\n",
       "      <th>1</th>\n",
       "      <td>Abdullah</td>\n",
       "      <td>704.0</td>\n",
       "      <td>632.0</td>\n",
       "      <td>2013</td>\n",
       "      <td>NaN</td>\n",
       "    </tr>\n",
       "    <tr>\n",
       "      <th>2</th>\n",
       "      <td>Absalom</td>\n",
       "      <td>444.0</td>\n",
       "      <td>339.0</td>\n",
       "      <td>2007</td>\n",
       "      <td>NaN</td>\n",
       "    </tr>\n",
       "    <tr>\n",
       "      <th>3</th>\n",
       "      <td>Acilia</td>\n",
       "      <td>706.0</td>\n",
       "      <td>652.0</td>\n",
       "      <td>2013</td>\n",
       "      <td>NaN</td>\n",
       "    </tr>\n",
       "    <tr>\n",
       "      <th>4</th>\n",
       "      <td>Adele</td>\n",
       "      <td>608.0</td>\n",
       "      <td>527.0</td>\n",
       "      <td>2010</td>\n",
       "      <td>Her name was revealed in the Blue Deep data book.</td>\n",
       "    </tr>\n",
       "  </tbody>\n",
       "</table>\n",
       "</div>"
      ]
     },
     "metadata": {},
     "execution_count": 9
    }
   ],
   "metadata": {}
  },
  {
   "cell_type": "code",
   "execution_count": 10,
   "source": [
    "data1.info()"
   ],
   "outputs": [
    {
     "output_type": "stream",
     "name": "stdout",
     "text": [
      "<class 'pandas.core.frame.DataFrame'>\n",
      "RangeIndex: 978 entries, 0 to 977\n",
      "Data columns (total 8 columns):\n",
      " #   Column           Non-Null Count  Dtype  \n",
      "---  ------           --------------  -----  \n",
      " 0   Chapter_Number   978 non-null    int64  \n",
      " 1   Volume           978 non-null    int64  \n",
      " 2   Name             978 non-null    object \n",
      " 3   Romanized_title  978 non-null    object \n",
      " 4   Viz_title        978 non-null    object \n",
      " 5   Pages            977 non-null    float64\n",
      " 6   Date             978 non-null    object \n",
      " 7   Episodes         978 non-null    object \n",
      "dtypes: float64(1), int64(2), object(5)\n",
      "memory usage: 61.2+ KB\n"
     ]
    }
   ],
   "metadata": {}
  },
  {
   "cell_type": "code",
   "execution_count": 11,
   "source": [
    "data2.info()"
   ],
   "outputs": [
    {
     "output_type": "stream",
     "name": "stdout",
     "text": [
      "<class 'pandas.core.frame.DataFrame'>\n",
      "RangeIndex: 1229 entries, 0 to 1228\n",
      "Data columns (total 5 columns):\n",
      " #   Column   Non-Null Count  Dtype  \n",
      "---  ------   --------------  -----  \n",
      " 0   name     1229 non-null   object \n",
      " 1   chapter  1213 non-null   float64\n",
      " 2   episode  1148 non-null   float64\n",
      " 3   year     1229 non-null   int64  \n",
      " 4   note     811 non-null    object \n",
      "dtypes: float64(2), int64(1), object(2)\n",
      "memory usage: 48.1+ KB\n"
     ]
    }
   ],
   "metadata": {}
  },
  {
   "cell_type": "code",
   "execution_count": 12,
   "source": [
    "#this shows that we have years starting form year '3' which isnt logically correct. There is discrepancy in the data.\n",
    "data2['year'].sort_values(ascending=True)"
   ],
   "outputs": [
    {
     "output_type": "execute_result",
     "data": {
      "text/plain": [
       "1219       3\n",
       "1221       4\n",
       "1220       4\n",
       "1187       5\n",
       "1206       9\n",
       "        ... \n",
       "47      2020\n",
       "713     2020\n",
       "699     2020\n",
       "126     2021\n",
       "450     2021\n",
       "Name: year, Length: 1229, dtype: int64"
      ]
     },
     "metadata": {},
     "execution_count": 12
    }
   ],
   "metadata": {}
  },
  {
   "cell_type": "code",
   "execution_count": null,
   "source": [],
   "outputs": [],
   "metadata": {}
  }
 ],
 "metadata": {
  "orig_nbformat": 4,
  "language_info": {
   "name": "python",
   "version": "3.9.5",
   "mimetype": "text/x-python",
   "codemirror_mode": {
    "name": "ipython",
    "version": 3
   },
   "pygments_lexer": "ipython3",
   "nbconvert_exporter": "python",
   "file_extension": ".py"
  },
  "kernelspec": {
   "name": "python3",
   "display_name": "Python 3.9.5 64-bit"
  },
  "interpreter": {
   "hash": "aee8b7b246df8f9039afb4144a1f6fd8d2ca17a180786b69acc140d282b71a49"
  }
 },
 "nbformat": 4,
 "nbformat_minor": 2
}