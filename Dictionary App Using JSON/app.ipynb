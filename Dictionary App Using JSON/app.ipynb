{
 "cells": [
  {
   "cell_type": "code",
   "execution_count": 1,
   "source": [
    "import json"
   ],
   "outputs": [],
   "metadata": {}
  },
  {
   "cell_type": "code",
   "execution_count": 2,
   "source": [
    "data=json.load(open('./data.json'))"
   ],
   "outputs": [],
   "metadata": {}
  },
  {
   "cell_type": "code",
   "execution_count": 40,
   "source": [
    "input_word=input('please specify the word you would like to know the definition for: ')\n",
    "word_needed=input_word.lower()\n",
    "if word_needed in data:\n",
    "    if len(data[word_needed])>1:\n",
    "        count=1\n",
    "        for definition in data[word_needed]:\n",
    "            print(f\"Defenition {count}: {definition}\")\n",
    "            count+=1\n",
    "    else:\n",
    "        print('Defenition: ',data[word_needed][0])\n",
    "else:\n",
    "    print(\"Word doesn't exist, please try again.\")\n",
    "\n",
    "    \n",
    "\n",
    "        "
   ],
   "outputs": [
    {
     "output_type": "stream",
     "name": "stdout",
     "text": [
      "Defenition 1: An intense feeling of affection and care towards another person.\n",
      "Defenition 2: To receive pleasure or satisfaction from something.\n",
      "Defenition 3: Someone that one loves.\n",
      "Defenition 4: To have an intense feeling of affection and care towards another person.\n",
      "Defenition 5: (Tennis) Score of zero.\n",
      "Defenition 6: To have sex with.\n",
      "Defenition 7: To be enamored or in love with (somebody).\n"
     ]
    }
   ],
   "metadata": {}
  }
 ],
 "metadata": {
  "orig_nbformat": 4,
  "language_info": {
   "name": "python",
   "version": "3.9.5",
   "mimetype": "text/x-python",
   "codemirror_mode": {
    "name": "ipython",
    "version": 3
   },
   "pygments_lexer": "ipython3",
   "nbconvert_exporter": "python",
   "file_extension": ".py"
  },
  "kernelspec": {
   "name": "python3",
   "display_name": "Python 3.9.5 64-bit"
  },
  "interpreter": {
   "hash": "aee8b7b246df8f9039afb4144a1f6fd8d2ca17a180786b69acc140d282b71a49"
  }
 },
 "nbformat": 4,
 "nbformat_minor": 2
}