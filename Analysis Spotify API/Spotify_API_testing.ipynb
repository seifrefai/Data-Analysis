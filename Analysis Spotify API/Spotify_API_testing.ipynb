{
 "metadata": {
  "language_info": {
   "codemirror_mode": {
    "name": "ipython",
    "version": 3
   },
   "file_extension": ".py",
   "mimetype": "text/x-python",
   "name": "python",
   "nbconvert_exporter": "python",
   "pygments_lexer": "ipython3",
   "version": "3.9.2"
  },
  "orig_nbformat": 2,
  "kernelspec": {
   "name": "python392jvsc74a57bd04cd7ab41f5fca4b9b44701077e38c5ffd31fe66a6cab21e0214b68d958d0e462",
   "display_name": "Python 3.9.2 64-bit"
  },
  "metadata": {
   "interpreter": {
    "hash": "4cd7ab41f5fca4b9b44701077e38c5ffd31fe66a6cab21e0214b68d958d0e462"
   }
  }
 },
 "nbformat": 4,
 "nbformat_minor": 2,
 "cells": [
  {
   "cell_type": "code",
   "execution_count": 316,
   "source": [
    "import pandas as pd \n",
    "import time\n",
    "import spotipy \n",
    "from spotipy.oauth2 import SpotifyClientCredentials\n",
    "import io\n",
    "import json\n",
    "import matplotlib.pyplot as plt \n",
    "import seaborn as sns \n",
    "%inline matplotlib"
   ],
   "outputs": [
    {
     "output_type": "stream",
     "name": "stderr",
     "text": [
      "UsageError: Line magic function `%inline` not found.\n"
     ]
    }
   ],
   "metadata": {}
  },
  {
   "cell_type": "code",
   "execution_count": 317,
   "source": [
    "#Enter your id below\n",
    "client_id= ''\n",
    "#Enter your secret below\n",
    "client_secret= ''\n",
    "client_manager= SpotifyClientCredentials(client_id, client_secret)\n",
    "sp=spotipy.Spotify(client_credentials_manager=client_manager)"
   ],
   "outputs": [],
   "metadata": {}
  },
  {
   "cell_type": "code",
   "execution_count": 318,
   "source": [
    "def getTracks(user,playlist_id):\n",
    "    ids=[]\n",
    "    playlist= sp.user_playlist(user,playlist_id)\n",
    "    for item in playlist['tracks']['items']:\n",
    "        track=item['track']\n",
    "        ids.append(track['id'])\n",
    "    return ids\n",
    "\n",
    "\n",
    "ids= getTracks('seif','https://open.spotify.com/playlist/20G8epBcbcJLAJ2ADiwOLR?si=6ec4a105b3144be4')"
   ],
   "outputs": [],
   "metadata": {}
  },
  {
   "cell_type": "code",
   "execution_count": 319,
   "source": [
    "playlist= sp.user_playlist('seif','https://open.spotify.com/playlist/20G8epBcbcJLAJ2ADiwOLR?si=6ec4a105b3144be4')\n"
   ],
   "outputs": [],
   "metadata": {
    "tags": []
   }
  },
  {
   "cell_type": "code",
   "execution_count": 320,
   "source": [
    "df=pd.DataFrame(list(playlist.items()))\n",
    "df.iloc[12]"
   ],
   "outputs": [
    {
     "output_type": "execute_result",
     "data": {
      "text/plain": [
       "0                                               tracks\n",
       "1    {'href': 'https://api.spotify.com/v1/playlists...\n",
       "Name: 12, dtype: object"
      ]
     },
     "metadata": {},
     "execution_count": 320
    }
   ],
   "metadata": {
    "tags": []
   }
  },
  {
   "cell_type": "code",
   "execution_count": 321,
   "source": [
    "df.rename(columns={0:'type',1:'info'},inplace=True)"
   ],
   "outputs": [],
   "metadata": {}
  },
  {
   "cell_type": "code",
   "execution_count": 322,
   "source": [
    "playlist['tracks']['items'][0]['track'].keys()"
   ],
   "outputs": [
    {
     "output_type": "execute_result",
     "data": {
      "text/plain": [
       "dict_keys(['album', 'artists', 'available_markets', 'disc_number', 'duration_ms', 'episode', 'explicit', 'external_ids', 'external_urls', 'href', 'id', 'is_local', 'name', 'popularity', 'preview_url', 'track', 'track_number', 'type', 'uri'])"
      ]
     },
     "metadata": {},
     "execution_count": 322
    }
   ],
   "metadata": {}
  },
  {
   "cell_type": "code",
   "execution_count": 323,
   "source": [
    "def func():\n",
    "    artists=[]\n",
    "    x=playlist['tracks']['items']\n",
    "    for item in x:\n",
    "        for item2 in item:\n",
    "            artists.append(item['track']['artists'][0]['name'])\n",
    "        return artists"
   ],
   "outputs": [],
   "metadata": {}
  },
  {
   "cell_type": "code",
   "execution_count": 324,
   "source": [
    "func()"
   ],
   "outputs": [
    {
     "output_type": "execute_result",
     "data": {
      "text/plain": [
       "['El Sawareekh',\n",
       " 'El Sawareekh',\n",
       " 'El Sawareekh',\n",
       " 'El Sawareekh',\n",
       " 'El Sawareekh',\n",
       " 'El Sawareekh']"
      ]
     },
     "metadata": {},
     "execution_count": 324
    }
   ],
   "metadata": {}
  },
  {
   "cell_type": "code",
   "execution_count": 325,
   "source": [
    " playlist['tracks']['items'][0]['track']['artists']\n"
   ],
   "outputs": [
    {
     "output_type": "execute_result",
     "data": {
      "text/plain": [
       "[{'external_urls': {'spotify': 'https://open.spotify.com/artist/5rNrRYsRVaRJDQhA1PEC6t'},\n",
       "  'href': 'https://api.spotify.com/v1/artists/5rNrRYsRVaRJDQhA1PEC6t',\n",
       "  'id': '5rNrRYsRVaRJDQhA1PEC6t',\n",
       "  'name': 'El Sawareekh',\n",
       "  'type': 'artist',\n",
       "  'uri': 'spotify:artist:5rNrRYsRVaRJDQhA1PEC6t'}]"
      ]
     },
     "metadata": {},
     "execution_count": 325
    }
   ],
   "metadata": {
    "tags": []
   }
  },
  {
   "cell_type": "code",
   "execution_count": 326,
   "source": [
    "def list_artists():\n",
    "    artists=[]\n",
    "    x=playlist['tracks']['items']\n",
    "    for item1 in x:\n",
    "        for item2 in item1['track']['artists']:\n",
    "            artists.append(item2['name'])\n",
    "\n",
    "    return artists\n"
   ],
   "outputs": [],
   "metadata": {
    "tags": []
   }
  },
  {
   "cell_type": "code",
   "execution_count": 327,
   "source": [
    "df=pd.DataFrame(list_artists())"
   ],
   "outputs": [],
   "metadata": {}
  },
  {
   "cell_type": "code",
   "execution_count": 332,
   "source": [
    "df.value_counts().head(10)"
   ],
   "outputs": [
    {
     "output_type": "execute_result",
     "data": {
      "text/plain": [
       "Hiroyuki Sawano         7\n",
       "Yuki Hayashi            4\n",
       "Kordas                  3\n",
       "Hyper                   3\n",
       "Drake                   3\n",
       "El Sawareekh            2\n",
       "Thousand Foot Krutch    2\n",
       "FamilyJules             2\n",
       "Fame on Fire            2\n",
       "RudeLies                2\n",
       "dtype: int64"
      ]
     },
     "metadata": {},
     "execution_count": 332
    }
   ],
   "metadata": {}
  },
  {
   "cell_type": "code",
   "execution_count": 315,
   "source": [
    "artists"
   ],
   "outputs": [
    {
     "output_type": "execute_result",
     "data": {
      "text/plain": [
       "['El Sawareekh',\n",
       " 'Amr Diab',\n",
       " 'El Sawareekh',\n",
       " 'Zoka',\n",
       " 'Shehta Karika',\n",
       " 'Hyper',\n",
       " 'Calvin Harris',\n",
       " 'Ne-Yo',\n",
       " 'RudeLies',\n",
       " 'Facading',\n",
       " 'RichaadEB',\n",
       " 'Cristina Vee',\n",
       " 'Rabbit Junk',\n",
       " 'Little V.',\n",
       " 'Beatman',\n",
       " 'Hyper',\n",
       " 'Ludmilla',\n",
       " 'Hyper',\n",
       " 'Funkin Matt',\n",
       " 'Mingue',\n",
       " 'Dustycloud',\n",
       " 'Vicetone',\n",
       " 'Tony Igy',\n",
       " 'Yuki Hayashi',\n",
       " 'Casey Edwards',\n",
       " 'Victor Borba',\n",
       " 'Oliver Heldens',\n",
       " 'Firebeatz',\n",
       " 'Schella',\n",
       " 'Carla Monroe',\n",
       " 'Y2K',\n",
       " 'bbno$',\n",
       " 'Melo.Kids',\n",
       " 'EMDI',\n",
       " 'Bougenvilla',\n",
       " 'Mairee',\n",
       " 'Robin Valo',\n",
       " 'Skepta',\n",
       " 'Jme',\n",
       " 'MorganJ',\n",
       " 'FamilyJules',\n",
       " 'Lollia',\n",
       " 'Sleeping Forest',\n",
       " 'Kim Dotcom',\n",
       " 'Printz Board',\n",
       " 'ILS',\n",
       " 'Lil Wayne',\n",
       " 'Drake',\n",
       " 'Palisades',\n",
       " 'Bad Omens',\n",
       " 'Corx',\n",
       " 'Sebastian Mateo',\n",
       " 'Fame on Fire',\n",
       " 'DED',\n",
       " 'Drake',\n",
       " 'Future',\n",
       " '2 Unlimited',\n",
       " 'Apex Rise',\n",
       " 'Laidback Luke',\n",
       " 'Tujamo',\n",
       " 'ARIA',\n",
       " 'NA-NO',\n",
       " 'Linius',\n",
       " 'Kordas',\n",
       " 'KVSH',\n",
       " 'Lowderz',\n",
       " 'KAZKA',\n",
       " 'R3HAB',\n",
       " 'The Red Jumpsuit Apparatus',\n",
       " 'FamilyJules',\n",
       " \"It's Alive\",\n",
       " 'Jacob Tillberg',\n",
       " 'RudeLies',\n",
       " 'Topic',\n",
       " 'A7S',\n",
       " 'Linius',\n",
       " 'Kordas',\n",
       " 'ESH',\n",
       " 'ROWKA',\n",
       " 'Lucky Luke',\n",
       " 'Kordas',\n",
       " 'Ricii Lompeurs',\n",
       " 'Go Freek',\n",
       " 'Kyro',\n",
       " 'A-Tonez',\n",
       " 'JAM Project',\n",
       " 'RoomTone',\n",
       " 'Yuki Hayashi',\n",
       " 'Yuki Hayashi',\n",
       " 'Yuki Hayashi',\n",
       " 'Drake',\n",
       " 'Rick Ross',\n",
       " 'Flite',\n",
       " 'Refused',\n",
       " 'Hiroyuki Sawano',\n",
       " 'Hiroyuki Sawano',\n",
       " 'Hiroyuki Sawano',\n",
       " 'Hiroyuki Sawano',\n",
       " 'Hiroyuki Sawano',\n",
       " 'Hiroyuki Sawano',\n",
       " 'Hiroyuki Sawano',\n",
       " 'Skillet',\n",
       " 'My Darkest Days',\n",
       " 'Papa Roach',\n",
       " 'Rise Against',\n",
       " 'Imagine Dragons',\n",
       " 'Fall Out Boy',\n",
       " 'Fame on Fire',\n",
       " 'Arcaeus',\n",
       " 'Pillar',\n",
       " 'Thousand Foot Krutch',\n",
       " 'Egypt Central',\n",
       " 'Deuce',\n",
       " 'Apocalyptica',\n",
       " 'Brent Smith',\n",
       " 'Blue Stahli',\n",
       " 'From Ashes to New',\n",
       " 'Halsey',\n",
       " 'Ruelle',\n",
       " 'Thirty Seconds To Mars',\n",
       " 'Skan',\n",
       " 'Krale',\n",
       " 'M.I.M.E',\n",
       " 'Drama B',\n",
       " 'Vicetone',\n",
       " 'Cozi Zuehlsdorff',\n",
       " 'NEFFEX',\n",
       " 'The Chainsmokers',\n",
       " 'Great Good Fine Ok',\n",
       " 'Sonic Syndicate',\n",
       " 'Zardonic',\n",
       " 'Anaya',\n",
       " 'Adelitas Way',\n",
       " 'Red',\n",
       " 'Thousand Foot Krutch',\n",
       " 'Three Days Grace',\n",
       " 'Self Deception',\n",
       " 'Ashes Remain',\n",
       " 'Fight The Fade',\n",
       " 'Atoms to Ashes',\n",
       " 'Wiz Khalifa',\n",
       " 'Ty Dolla $ign',\n",
       " 'Lil Yachty',\n",
       " 'Sueco',\n",
       " 'KAAZE',\n",
       " 'BLK RSE',\n",
       " 'Doja Cat']"
      ]
     },
     "metadata": {},
     "execution_count": 315
    }
   ],
   "metadata": {}
  }
 ]
}